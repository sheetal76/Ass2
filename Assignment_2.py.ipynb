{
 "cells": [
  {
   "cell_type": "code",
   "execution_count": null,
   "id": "e2f64517",
   "metadata": {},
   "outputs": [],
   "source": [
    "1.write a python program to convert km to miles?"
   ]
  },
  {
   "cell_type": "code",
   "execution_count": 14,
   "id": "9e5dc533",
   "metadata": {},
   "outputs": [
    {
     "name": "stdout",
     "output_type": "stream",
     "text": [
      "12\n",
      "12 km is equal to 7.4556 miles\n"
     ]
    }
   ],
   "source": [
    "km =(int(input()))\n",
    "miles = km *0.6213\n",
    "\n",
    "print(km, \"km is equal to\", miles, \"miles\")\n",
    "\n",
    "\n",
    "\n",
    "\n"
   ]
  },
  {
   "cell_type": "code",
   "execution_count": null,
   "id": "1b1d3eaa",
   "metadata": {},
   "outputs": [],
   "source": [
    "2.write a python program to convert celsius to fahrenheit?"
   ]
  },
  {
   "cell_type": "code",
   "execution_count": 4,
   "id": "a35bc37c",
   "metadata": {},
   "outputs": [
    {
     "name": "stdout",
     "output_type": "stream",
     "text": [
      "32 is equals to 57.6 F\n"
     ]
    }
   ],
   "source": [
    "celsius=32\n",
    "fahrenheit=celsius*1.8\n",
    "print(celsius,\"is equals to\",fahrenheit,\"F\")"
   ]
  },
  {
   "cell_type": "code",
   "execution_count": null,
   "id": "1e137c16",
   "metadata": {},
   "outputs": [],
   "source": [
    "3.write a python program to display calendar?"
   ]
  },
  {
   "cell_type": "code",
   "execution_count": 7,
   "id": "05c6aaf2",
   "metadata": {},
   "outputs": [],
   "source": [
    "import calendar"
   ]
  },
  {
   "cell_type": "code",
   "execution_count": 11,
   "id": "15607ca4",
   "metadata": {},
   "outputs": [
    {
     "name": "stdout",
     "output_type": "stream",
     "text": [
      "   December 2022\n",
      "Mo Tu We Th Fr Sa Su\n",
      "          1  2  3  4\n",
      " 5  6  7  8  9 10 11\n",
      "12 13 14 15 16 17 18\n",
      "19 20 21 22 23 24 25\n",
      "26 27 28 29 30 31\n",
      "\n"
     ]
    }
   ],
   "source": [
    "year=2022\n",
    "month=12\n",
    "\n",
    "print(calendar.month(year, month))"
   ]
  },
  {
   "cell_type": "code",
   "execution_count": 12,
   "id": "a3b058b8",
   "metadata": {},
   "outputs": [
    {
     "name": "stdout",
     "output_type": "stream",
     "text": [
      "                                  2022\n",
      "\n",
      "      January                   February                   March\n",
      "Mo Tu We Th Fr Sa Su      Mo Tu We Th Fr Sa Su      Mo Tu We Th Fr Sa Su\n",
      "                1  2          1  2  3  4  5  6          1  2  3  4  5  6\n",
      " 3  4  5  6  7  8  9       7  8  9 10 11 12 13       7  8  9 10 11 12 13\n",
      "10 11 12 13 14 15 16      14 15 16 17 18 19 20      14 15 16 17 18 19 20\n",
      "17 18 19 20 21 22 23      21 22 23 24 25 26 27      21 22 23 24 25 26 27\n",
      "24 25 26 27 28 29 30      28                        28 29 30 31\n",
      "31\n",
      "\n",
      "       April                      May                       June\n",
      "Mo Tu We Th Fr Sa Su      Mo Tu We Th Fr Sa Su      Mo Tu We Th Fr Sa Su\n",
      "             1  2  3                         1             1  2  3  4  5\n",
      " 4  5  6  7  8  9 10       2  3  4  5  6  7  8       6  7  8  9 10 11 12\n",
      "11 12 13 14 15 16 17       9 10 11 12 13 14 15      13 14 15 16 17 18 19\n",
      "18 19 20 21 22 23 24      16 17 18 19 20 21 22      20 21 22 23 24 25 26\n",
      "25 26 27 28 29 30         23 24 25 26 27 28 29      27 28 29 30\n",
      "                          30 31\n",
      "\n",
      "        July                     August                  September\n",
      "Mo Tu We Th Fr Sa Su      Mo Tu We Th Fr Sa Su      Mo Tu We Th Fr Sa Su\n",
      "             1  2  3       1  2  3  4  5  6  7                1  2  3  4\n",
      " 4  5  6  7  8  9 10       8  9 10 11 12 13 14       5  6  7  8  9 10 11\n",
      "11 12 13 14 15 16 17      15 16 17 18 19 20 21      12 13 14 15 16 17 18\n",
      "18 19 20 21 22 23 24      22 23 24 25 26 27 28      19 20 21 22 23 24 25\n",
      "25 26 27 28 29 30 31      29 30 31                  26 27 28 29 30\n",
      "\n",
      "      October                   November                  December\n",
      "Mo Tu We Th Fr Sa Su      Mo Tu We Th Fr Sa Su      Mo Tu We Th Fr Sa Su\n",
      "                1  2          1  2  3  4  5  6                1  2  3  4\n",
      " 3  4  5  6  7  8  9       7  8  9 10 11 12 13       5  6  7  8  9 10 11\n",
      "10 11 12 13 14 15 16      14 15 16 17 18 19 20      12 13 14 15 16 17 18\n",
      "17 18 19 20 21 22 23      21 22 23 24 25 26 27      19 20 21 22 23 24 25\n",
      "24 25 26 27 28 29 30      28 29 30                  26 27 28 29 30 31\n",
      "31\n",
      "\n"
     ]
    }
   ],
   "source": [
    "year=2022\n",
    "\n",
    "print(calendar.calendar(year))"
   ]
  },
  {
   "cell_type": "code",
   "execution_count": null,
   "id": "8a9891b9",
   "metadata": {},
   "outputs": [],
   "source": [
    "4.write a python program to solve quadratic equation?"
   ]
  },
  {
   "cell_type": "code",
   "execution_count": 13,
   "id": "2d5c6679",
   "metadata": {},
   "outputs": [],
   "source": [
    "import cmath"
   ]
  },
  {
   "cell_type": "code",
   "execution_count": 19,
   "id": "28ff99ae",
   "metadata": {},
   "outputs": [
    {
     "name": "stdout",
     "output_type": "stream",
     "text": [
      "ax**2+bx+c=0\n",
      "enter the no a:4\n",
      "enter the no b:9\n",
      "enter the no c:5\n",
      "For the quadratic equation,ax**2+bx+c=0\n",
      "Roots are (-20+0j) and (-16+0j)\n"
     ]
    }
   ],
   "source": [
    "print(\"ax**2+bx+c=0\")\n",
    "a=(int(input(\"enter the no a:\" )))\n",
    "b=(int(input(\"enter the no b:\" )))\n",
    "c=(int(input(\"enter the no c:\" )))\n",
    "\n",
    "#discriminant\n",
    "d= (b**2) - (4*a*c)\n",
    "\n",
    "root1= (-b-cmath.sqrt(d))/2*a\n",
    "root2= (-b+cmath.sqrt(d))/2*a\n",
    "print(\"For the quadratic equation,ax**2+bx+c=0\")\n",
    "print(\"Roots are\", root1, \"and\",root2)"
   ]
  },
  {
   "cell_type": "code",
   "execution_count": null,
   "id": "973780a2",
   "metadata": {},
   "outputs": [],
   "source": [
    "5.write a python program to swap two variables without temp variable?"
   ]
  },
  {
   "cell_type": "code",
   "execution_count": 20,
   "id": "452c4543",
   "metadata": {},
   "outputs": [
    {
     "name": "stdout",
     "output_type": "stream",
     "text": [
      "Before swap 35 25\n",
      "After swap 25 35\n"
     ]
    }
   ],
   "source": [
    "x=35\n",
    "y=25\n",
    "print(\"Before swap\",x,y)\n",
    "x,y= y,x\n",
    "print(\"After swap\",x,y)"
   ]
  },
  {
   "cell_type": "code",
   "execution_count": null,
   "id": "bcf8c09b",
   "metadata": {},
   "outputs": [],
   "source": []
  }
 ],
 "metadata": {
  "kernelspec": {
   "display_name": "Python 3 (ipykernel)",
   "language": "python",
   "name": "python3"
  },
  "language_info": {
   "codemirror_mode": {
    "name": "ipython",
    "version": 3
   },
   "file_extension": ".py",
   "mimetype": "text/x-python",
   "name": "python",
   "nbconvert_exporter": "python",
   "pygments_lexer": "ipython3",
   "version": "3.9.12"
  }
 },
 "nbformat": 4,
 "nbformat_minor": 5
}
